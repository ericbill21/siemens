{
  "nbformat": 4,
  "nbformat_minor": 0,
  "metadata": {
    "colab": {
      "name": "Siemens_Approach.ipynb",
      "provenance": [],
      "collapsed_sections": [],
      "include_colab_link": true
    },
    "kernelspec": {
      "display_name": "Python 3",
      "name": "python3"
    },
    "accelerator": "GPU"
  },
  "cells": [
    {
      "cell_type": "markdown",
      "metadata": {
        "id": "view-in-github",
        "colab_type": "text"
      },
      "source": [
        "<a href=\"https://colab.research.google.com/github/ericbill21/siemens/blob/cleanup/Siemens_Approach.ipynb\" target=\"_parent\"><img src=\"https://colab.research.google.com/assets/colab-badge.svg\" alt=\"Open In Colab\"/></a>"
      ]
    },
    {
      "cell_type": "code",
      "metadata": {
        "id": "W70udFHYSHNI",
        "outputId": "0d8244c4-be7f-45f9-ec16-97c7abe2e4af",
        "colab": {
          "base_uri": "https://localhost:8080/",
          "height": 34
        }
      },
      "source": [
        "#@title Imports and coinfig\n",
        "%tensorflow_version 2.x\n",
        "from IPython.display import clear_output\n",
        "import tensorflow as tf\n",
        "from tensorflow import keras\n",
        "import pandas as pd\n",
        "import numpy as np\n",
        "import random\n",
        "from matplotlib import pyplot as plt\n",
        "import sys\n",
        "import gc\n",
        "import logging\n",
        "import time\n",
        "#tf.get_logger().setLevel(logging.ERROR)\n",
        "\n",
        "#time prediciton\n",
        "prev_time = 0\n",
        "\n",
        "plt.style.use('seaborn')\n",
        "plt.figure(figsize=(4,4))\n",
        "\n",
        "tf.random.set_seed(31415)\n"
      ],
      "execution_count": 28,
      "outputs": [
        {
          "output_type": "display_data",
          "data": {
            "text/plain": [
              "<Figure size 288x288 with 0 Axes>"
            ]
          },
          "metadata": {
            "tags": []
          }
        }
      ]
    },
    {
      "cell_type": "code",
      "metadata": {
        "id": "E98cwmoUT7w1"
      },
      "source": [
        "#@title Global constants\n",
        "\n",
        "#Dictionaries\n",
        "colors = {0 : 'green', 1 : 'red', 'green' : 0, 'red' : 1}\n",
        "sources = {'A' : 'https://drive.google.com/file/d/1hAzAKZNpmSclSI7HnV_cRjpMS4Kh5r1q/view?usp=sharing', 'B' : 'https://drive.google.com/file/d/12VlecL-5iYs-BFpnTOba1x65jWofBX1P/view?usp=sharing', 'C' : 'https://drive.google.com/file/d/1-Z0RuJIi1cZcqrrmV6TqT0O1PwI2OiBY/view?usp=sharing'}\n",
        "SOURCE_SIZE = {'A': 1000,'B' : 5000, 'C' : 50000}\n",
        "\n",
        "CURRENT_SET = 'B'\n",
        "\n",
        "#Examlpe subsets of each dataset\n",
        "subsetA = [47, 847, 993, 55, 102, 572, 430, 115, 842, 72, 770, 107, 78, 834, 593, 43, 234, 709, 210, 378]\n",
        "subsetB = [606, 2663, 1809, 2145, 4539, 3333, 3562, 2262, 512, 2046, 1541, 909, 286, 4815, 3663, 1742, 2822, 2756, 2937, 3080, 3845, 3949, 2506, 3984, 2803, 2067]\n",
        "subsetC = [32088, 33534, 39634, 40177, 25142, 752, 41771, 11793, 16415, 3811, 2096, 35902, 42221, 19594, 25109, 40476, 25162, 41150, 34610, 28329, 46339, 43149, 44441, 25720, 38747, 49497, 12708, 23920, 2280, 17946]\n",
        "\n",
        "VAL_INDICES = subsetB\n",
        "\n",
        "#Penalty applied to false green classifications in custom loss function\n",
        "PENALTY = 0.3"
      ],
      "execution_count": 29,
      "outputs": []
    },
    {
      "cell_type": "code",
      "metadata": {
        "id": "ISkimS6oUTP9",
        "cellView": "code"
      },
      "source": [
        "#@title Functions\n",
        "\n",
        "def getDataSet():\n",
        "  path = 'https://drive.google.com/uc?export=download&id='+sources[CURRENT_SET].split('/')[-2]\n",
        "  return pd.read_excel(path)\n",
        "\n",
        "\n",
        "#Plots the given dataSet in the rigth colors\n",
        "def makePlot(dataSet = None, correct_pred_points = [], incorrect_pred_points = []):\n",
        "\n",
        "  # if optional parameter dataSet is not set\n",
        "  if dataSet == None:\n",
        "    dataSet = getDataSet() \n",
        "\n",
        "  # Cheching for the right type\n",
        "  if not isinstance(dataSet, pd.DataFrame):\n",
        "    raise TypeError(f'dataSet is of type: {type(dataSet)}, but should be {pd.DataFrame}')\n",
        "\n",
        "\n",
        "  # Cheching for the right shape \n",
        "  if len(np.array(correct_pred_points).shape) != 2 and np.array(correct_pred_points).shape != (0,):\n",
        "    raise TypeError(f'The shape of the parameter correct_pred_points is: {np.array(correct_pred_points).shape}, but it should be 2 dimensional')\n",
        "  \n",
        "  if len(np.array(incorrect_pred_points).shape) != 2 and np.array(incorrect_pred_points).shape != (0,):\n",
        "    raise TypeError(f'The shape of the parameter incorrect_pred_points is: {np.array(incorrect_pred_points).shape}, but it should be 2 dimensional')\n",
        "  \n",
        "  # Creating a subplot\n",
        "  fig, ax = plt.subplots()\n",
        "  \n",
        "  # Scattering all points\n",
        "  for i in range(2):\n",
        "    x_1 = []\n",
        "    x_2 = []\n",
        "    for j in range(dataSet.shape[0]):\n",
        "      if dataSet['l_i'].loc[j] == i:\n",
        "        x_1.append(dataSet['x_i1'].loc[j])\n",
        "        x_2.append(dataSet['x_i2'].loc[j])\n",
        "\n",
        "    ax.scatter(x_1, x_2, c = colors[i])\n",
        "\n",
        "\n",
        "  # Adding markers to the specified points\n",
        "  ax.scatter(correct_pred_points[:, 0],correct_pred_points[:, 1],marker = \"x\", c = 'black', label='correct')\n",
        "  ax.scatter(incorrect_pred_points[:, 0], incorrect_pred_points[:, 1], marker = \"*\", c = 'black', label='incorrect')\n",
        "\n",
        "\n",
        "  # Setting parameters for ploting\n",
        "  ax.legend()\n",
        "  plt.legend()\n",
        "  plt.xlabel('x_i1')\n",
        "  plt.ylabel('x_i2')\n",
        "  plt.title(f'DataSet {CURRENT_SET}')\n",
        "  plt.axis('scaled')\n",
        "  plt.show()\n",
        "\n",
        "\n",
        "\n",
        "\n",
        "# Prepares a subset of the dataSet for validation\n",
        "def seperateValidationSet(dataSet, validationIndices):\n",
        "\n",
        "  # Cheching for the right type\n",
        "  if not isinstance(dataSet, pd.DataFrame):\n",
        "    raise TypeError(f'dataSet is of type: {type(dataSet)}, but should be {pd.DataFrame}')\n",
        "\n",
        "  # Cheching for the right shape \n",
        "  if len(np.array(validationIndices).shape) != 1:\n",
        "    raise TypeError(f'The shape of the parameter validationIndices is: {np.array(validationIndices).shape}, but it should be 1 dimensional')\n",
        "  \n",
        "\n",
        "  sampleSet_features = []\n",
        "  sampleSet_labels = []\n",
        "\n",
        "  for i in validationIndices:\n",
        "    sampleSet_features.append([dataSet['x_i1'].loc[i], dataSet['x_i2'].loc[i]])\n",
        "    sampleSet_labels.append([dataSet['l_i'].loc[i]])\n",
        "  \n",
        "  #Saving the testing points\n",
        "  prediction_point = tf.constant(sampleSet_features, tf.float32)\n",
        "  prediciton_label = tf.constant(sampleSet_labels, tf.float32)\n",
        "\n",
        "  #Removing the testing point\n",
        "  dataSet.drop(index=validationIndices, inplace=True)\n",
        "  dataSet.reset_index(inplace=True)\n",
        "\n",
        "  return (prediction_point, prediciton_label)\n",
        "\n",
        "\n",
        "\n",
        "# Print iterations progress\n",
        "def printProgressBar (iteration, total, prefix = '', suffix = '', decimals = 1, length = 100, fill = '█', printEnd = \"\\r\"):\n",
        "\n",
        "    # Preparing strings\n",
        "    percent = (\"{0:.\" + str(decimals) + \"f}\").format(100 * (iteration / float(total)))\n",
        "    filledLength = int(length * iteration // total)\n",
        "    bar = fill * filledLength + '-' * (length - filledLength)\n",
        "\n",
        "    # Writing strings to console\n",
        "    sys.stdout.write(f'\\r{prefix} |{bar}| {percent}% ETA: {round(timeCalc()*(total-iteration), 2)} minutes {suffix}')\n",
        "    sys.stdout.flush()\n",
        "\n",
        "    # Erease progress bar on complete\n",
        "    if iteration == total:\n",
        "      global prev_time\n",
        "      prev_time = 0\n",
        "      sys.stdout.write('\\r')\n",
        "      sys.stdout.flush()\n",
        "\n",
        "\n",
        "\n",
        "\n",
        "def makeCertaintiyMap(model, accuracy = 100, specific_color = None):\n",
        "  accuracy_map = np.zeros((accuracy, accuracy))\n",
        "\n",
        "  for i in range(accuracy):\n",
        "    tensor = tf.constant([[j/accuracy, i/accuracy] for j in range(accuracy)], tf.float32)\n",
        "    result = model.predict(tensor)\n",
        "\n",
        "    if specific_color != None:\n",
        "      accuracy_map[i] = result[:, specific_color]\n",
        "    else:\n",
        "      result = result.max(axis=1) #Getting each max value\n",
        "      if max(result) != min(result):\n",
        "        normalized = (result-min(result))/(max(result)-min(result))\n",
        "        accuracy_map[i] = normalized\n",
        "      else: \n",
        "        accuracy_map[i] = result\n",
        "      \n",
        "    \n",
        "    printProgressBar(i, accuracy-1)\n",
        "\n",
        "\n",
        "  plt.imshow(accuracy_map, origin='lower', cmap='tab20b', vmin=0, vmax=1)\n",
        "  plt.colorbar()\n",
        "  plt.show()\n",
        "  return accuracy_map\n",
        "\n",
        "\n",
        "\n",
        "\n",
        "def plotAllPenaltyCombinations(model, accuracy = 100):\n",
        "  print('Chosen Subset:')\n",
        "  makePlot(marker=prediction_points.numpy())\n",
        "\n",
        "  result_x = np.zeros(accuracy+1)\n",
        "  result_y = np.zeros(accuracy+1)\n",
        "\n",
        "  printProgressBar(0, accuracy,prefix='Progress', suffix='ETA: ')\n",
        "\n",
        "  #Iterating over every penalty\n",
        "  for i in range(accuracy+1):\n",
        "    keras.backend.clear_session()\n",
        "    prevTime = time.time()\n",
        "\n",
        "    penalty = i/accuracy #Selecting a value between 0 and 1 with steps of 1/accuracy\n",
        "\n",
        "    model.compile(optimizer='adam',loss=construct_custom_penalty_loss(penalty),metrics=['accuracy'])\n",
        "    model.fit(training_points, training_labels, batch_size=32, epochs=10, shuffle=True, verbose=0)\n",
        "    \n",
        "    #Saving results\n",
        "    result_x[i] = penalty\n",
        "    result_y[i] = model.evaluate(prediction_points, prediction_labels, verbose=0)[0]\n",
        "\n",
        "    #Printing progress\n",
        "    printProgressBar(i+1, accuracy+1,prefix='Progress')\n",
        "\n",
        "  #Presenting the results\n",
        "  print('\\nThe loss:')\n",
        "  plt.plot(result_x, result_y)\n",
        "\n",
        "  return result_y\n",
        "\n",
        "\n",
        "def timeCalc():\n",
        "  global prev_time\n",
        "  if prev_time == 0:\n",
        "    prev_time = time.time()\n",
        "    return 0\n",
        "  \n",
        "  res = (time.time() - prev_time) / 60\n",
        "  prev_time = time.time()\n",
        "  return res\n",
        "\n",
        "\n",
        "def plotHistory(history):\n",
        "  plt.plot(history.history['accuracy'])\n",
        "  plt.plot(history.history['val_accuracy'])\n",
        "  plt.title('model accuracy')\n",
        "  plt.ylabel('accuracy')\n",
        "  plt.xlabel('epoch')\n",
        "  plt.legend(['train', 'val'], loc='upper left')\n",
        "  plt.show()\n",
        "\n",
        "\n",
        "def showPredicitons(model, prediction_points, prediction_labels):\n",
        "  prediction = model.predict(prediction_points)\n",
        "\n",
        "  points = prediction_points.numpy()\n",
        "  labels = prediction_labels.numpy()[:, 0].astype(int)\n",
        "\n",
        "  correct_indices = np.where((labels == np.argmax(prediction, axis=1)) == True)\n",
        "  wrong_indices = np.where((labels == np.argmax(prediction, axis=1)) == False)\n",
        "\n",
        "  number_of_points = np.bincount(np.argmax(prediction, axis=1))\n",
        "\n",
        "  print(f'Predictions for green: {number_of_points[0]} / {len(labels)}')\n",
        "  print(f'Predictions for red: {number_of_points[1]} / {len(labels)}')\n",
        "  print(f'The algorithm predicted {np.bincount(labels == np.argmax(prediction, axis=1))[0]} times wrong')\n",
        "  makePlot(correct_pred_points=points[correct_indices], incorrect_pred_points=points[wrong_indices])\n",
        "\n",
        "  return prediction"
      ],
      "execution_count": 30,
      "outputs": []
    },
    {
      "cell_type": "code",
      "metadata": {
        "id": "QCsy_7qMzuBD",
        "colab": {
          "base_uri": "https://localhost:8080/"
        },
        "outputId": "46f05090-3627-4499-f8ba-afc965e0abe8"
      },
      "source": [
        "#Preparing data\n",
        "dataSet = getDataSet()\n",
        "dataSet.pop('Unnamed: 0') #Removing unnessary column\n",
        "\n",
        "prediction_points, prediction_labels = seperateValidationSet(dataSet=dataSet, validationIndices=VAL_INDICES)\n",
        "\n",
        "#Artificially balancing the dataSet\n",
        "number_of_green_points = list(dataSet['l_i']).count(colors['green'])\n",
        "number_of_red_points = list(dataSet['l_i']).count(colors['red'])\n",
        "\n",
        "if number_of_red_points / SOURCE_SIZE[CURRENT_SET] <= 0.5:\n",
        "  amount = int((0.5 - number_of_red_points / SOURCE_SIZE[CURRENT_SET]) * SOURCE_SIZE[CURRENT_SET])\n",
        "  red_points = dataSet.loc[dataSet['l_i'] == 1] #Getting all red points\n",
        "  choosen_points = red_points.sample(amount, replace=True) #Selecting a random subset of red points\n",
        "  dataSet = dataSet.append(choosen_points, ignore_index=True) #appending the subset\n",
        "\n",
        "if number_of_green_points / SOURCE_SIZE[CURRENT_SET] <= 0.5:\n",
        "  amount = int((0.5 - number_of_green_points / SOURCE_SIZE[CURRENT_SET]) * SOURCE_SIZE[CURRENT_SET])\n",
        "  green_points = dataSet.loc[dataSet['l_i'] == 0] #Getting all green points\n",
        "  choosen_points = green_points.sample(amount, replace=True) #Selecting a random subset of green points\n",
        "  dataSet = dataSet.append(choosen_points, ignore_index=True) #appending green subset\n",
        "\n",
        "if 'index' in dataSet.columns:\n",
        "  dataSet.pop('index') #removing old indices\n",
        "  print(f'Artificially exended by {dataSet[\"x_i1\"].size - SOURCE_SIZE[CURRENT_SET] + len(VAL_INDICES)} points')\n",
        "  print(f'Relation is now: {dataSet.loc[dataSet[\"l_i\"] == 0].shape[0]} green  : {dataSet.loc[dataSet[\"l_i\"] == 1].shape[0]} red ')\n",
        "\n",
        "#Creating tensors\n",
        "training_labels = tf.constant(dataSet.pop('l_i'), tf.float32)\n",
        "training_points = tf.constant(dataSet, tf.float32)"
      ],
      "execution_count": 31,
      "outputs": [
        {
          "output_type": "stream",
          "text": [
            "Artificially exended by 140 points\n",
            "Relation is now: 2500 green  : 2614 red \n"
          ],
          "name": "stdout"
        }
      ]
    },
    {
      "cell_type": "code",
      "metadata": {
        "id": "N24D-gWpnFmD"
      },
      "source": [
        "def construct_custom_penalty_loss(penalty=PENALTY):\n",
        "\n",
        "  def custom_penalty_loss(y_true,y_pred):\n",
        "    length = tf.shape(y_true)[0]\n",
        "\n",
        "    #Creating a vector with all values set to the penalty: [0.3, 0.3, ... 0.3]\n",
        "    error = tf.multiply(tf.constant(penalty, tf.float32), tf.ones(length)) \n",
        "\n",
        "    #Setting every entry to 0 if the corresponding entry in y_true is 1\n",
        "    error = tf.where(tf.equal(y_true[:, 0], tf.zeros(length)), error, tf.zeros(length))\n",
        "\n",
        "    #Setting every entry to 0 if the algorithm predicted 0\n",
        "    error = tf.where(tf.greater(y_pred[:, 0], y_pred[:, 1]), tf.zeros(length), error)\n",
        "\n",
        "    #Transforms the vector from [0, 0, 0.3, ... 0,3] to [[0, -0], [0, -0], [0.3, -0.3], ... [0.3, -0.3]]\n",
        "    error = tf.stack([error, tf.multiply(tf.constant(-1, tf.float32), error)], 1)\n",
        "\n",
        "    #Adding the artificial loss\n",
        "    y_pred = y_pred + error\n",
        "\n",
        "    #Eliminating values > 1 or < 0\n",
        "    y_pred0 = tf.where(tf.greater(y_pred[:, 0], tf.ones(length)), tf.ones(length), y_pred[:, 0])\n",
        "    y_pred1 = tf.where(tf.greater(y_pred[:, 1], tf.zeros(length)), y_pred[:, 1], tf.zeros(length))\n",
        "    y_pred = tf.stack([y_pred0, y_pred1], axis=1)\n",
        "\n",
        "\n",
        "    loss = keras.losses.sparse_categorical_crossentropy(y_pred=y_pred, y_true=y_true)\n",
        "    return loss\n",
        "  \n",
        "  return custom_penalty_loss"
      ],
      "execution_count": 32,
      "outputs": []
    },
    {
      "cell_type": "code",
      "metadata": {
        "id": "rrxlkLjeccKz",
        "colab": {
          "base_uri": "https://localhost:8080/"
        },
        "outputId": "f55a2628-b885-4f32-f0e9-c04914bc66b1"
      },
      "source": [
        "model = keras.Sequential([\n",
        "           keras.layers.Flatten(input_shape=(2,)),      #input layer: 2 neurons\n",
        "           keras.layers.Dense(100,activation='relu'), \n",
        "           keras.layers.Dense(70,activation='relu'), \n",
        "           keras.layers.Dense(50,activation='relu'),       \n",
        "           keras.layers.Dense(10,activation='relu'),\n",
        "           keras.layers.Dense(2,activation='softmax')   #output layer: 2 neurons              \n",
        "])\n",
        "\n",
        "\n",
        "model.compile(optimizer='adam',loss=construct_custom_penalty_loss(PENALTY) ,metrics=['accuracy'])\n",
        "\n",
        "validation_set = tf.concat([prediction_points, prediction_labels], axis=1)\n",
        "\n",
        "history = model.fit(training_points, training_labels, batch_size=32, epochs=5, shuffle=True, )"
      ],
      "execution_count": 33,
      "outputs": [
        {
          "output_type": "stream",
          "text": [
            "Epoch 1/5\n",
            "160/160 [==============================] - 1s 3ms/step - loss: 0.4008 - accuracy: 0.6218\n",
            "Epoch 2/5\n",
            "160/160 [==============================] - 0s 3ms/step - loss: 0.2405 - accuracy: 0.8361\n",
            "Epoch 3/5\n",
            "160/160 [==============================] - 1s 3ms/step - loss: 0.2209 - accuracy: 0.8453\n",
            "Epoch 4/5\n",
            "160/160 [==============================] - 0s 3ms/step - loss: 0.2172 - accuracy: 0.8479\n",
            "Epoch 5/5\n",
            "160/160 [==============================] - 0s 3ms/step - loss: 0.2114 - accuracy: 0.8534\n"
          ],
          "name": "stdout"
        }
      ]
    },
    {
      "cell_type": "code",
      "metadata": {
        "id": "_j7CzWG7OiIr",
        "outputId": "f130d4b8-b18e-44ca-f7de-12409389bc1f",
        "colab": {
          "base_uri": "https://localhost:8080/",
          "height": 427
        }
      },
      "source": [
        "x = showPredicitons(model, prediction_points, prediction_labels)"
      ],
      "execution_count": 34,
      "outputs": [
        {
          "output_type": "stream",
          "text": [
            "Predictions for green: 12 / 26\n",
            "Predictions for red: 14 / 26\n",
            "The algorithm predicted 8 times wrong\n"
          ],
          "name": "stdout"
        },
        {
          "output_type": "display_data",
          "data": {
            "image/png": "[encoded data removed]",
            "text/plain": [
              "<Figure size 576x396 with 1 Axes>"
            ]
          },
          "metadata": {
            "tags": []
          }
        }
      ]
    }
  ]
}